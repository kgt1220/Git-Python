{
 "cells": [
  {
   "cell_type": "code",
   "execution_count": 1,
   "metadata": {},
   "outputs": [
    {
     "name": "stdout",
     "output_type": "stream",
     "text": [
      "Hello World\n",
      "Hello World\n"
     ]
    }
   ],
   "source": [
    "print(\"Hello World\")\n",
    "\n",
    "print('Hello World')"
   ]
  },
  {
   "cell_type": "code",
   "execution_count": 2,
   "metadata": {},
   "outputs": [
    {
     "name": "stdout",
     "output_type": "stream",
     "text": [
      "<class 'int'>\n",
      "3\n",
      "4\n",
      "2\n",
      "6\n",
      "9\n",
      "1.5\n",
      "4\n",
      "8\n",
      "<class 'float'>\n",
      "2.5 5.0 5.0 6.25 1.25\n"
     ]
    }
   ],
   "source": [
    "x = 3           # declare integer variable\n",
    "print(type(x))  # print <class 'int'>\n",
    "print(x)        # print 3\n",
    "print(x + 1)    # addition\n",
    "print(x - 1)    # subtraction\n",
    "print(x * 2)    # multiplication\n",
    "print(x **2)    # square\n",
    "print(x / 2)    # division\n",
    "x+=1\n",
    "print(x)        # print 4\n",
    "x*=2\n",
    "print(x)        # print 8\n",
    "y = 2.5         # declare float variable\n",
    "print(type(y))  # print <class 'float'>\n",
    "print(y,y+y,y*2,y**2,y/2)  # print 2.5,5,5,6.25,1.25"
   ]
  },
  {
   "cell_type": "code",
   "execution_count": 4,
   "metadata": {},
   "outputs": [
    {
     "name": "stdout",
     "output_type": "stream",
     "text": [
      "<class 'bool'>\n",
      "False\n",
      "True\n",
      "False\n",
      "True\n"
     ]
    }
   ],
   "source": [
    "t = True\n",
    "f = False\n",
    "print(type(t))  # print <class 'bool'>\n",
    "print(t and f)  # logic AND\n",
    "print(t or f)   # logic OR\n",
    "print(not t)    # logic NOT\n",
    "print(t != f)   # logic XOR"
   ]
  },
  {
   "cell_type": "code",
   "execution_count": 5,
   "metadata": {},
   "outputs": [
    {
     "name": "stdout",
     "output_type": "stream",
     "text": [
      "<class 'int'>\n",
      "0\n",
      "1\n",
      "False\n",
      "True\n"
     ]
    }
   ],
   "source": [
    "t = 1\n",
    "f = 0\n",
    "print(type(t))\n",
    "print(t and f)\n",
    "print(t or f)\n",
    "print(not t)\n",
    "print(t !=f)"
   ]
  },
  {
   "cell_type": "code",
   "execution_count": 6,
   "metadata": {},
   "outputs": [
    {
     "name": "stdout",
     "output_type": "stream",
     "text": [
      "hello\n",
      "5\n",
      "hello world\n",
      "hello world 12\n"
     ]
    }
   ],
   "source": [
    "hello = 'hello'\n",
    "world = \"world\"\n",
    "print(hello)\n",
    "print(len(hello))  # length of string = number of characters(include space)\n",
    "hw = hello + ' ' + world\n",
    "print(hw)\n",
    "hw12 = '%s %s %d' % (hello,world,12)  # sprintf type\n",
    "print(hw12)"
   ]
  },
  {
   "cell_type": "code",
   "execution_count": 8,
   "metadata": {},
   "outputs": [
    {
     "name": "stdout",
     "output_type": "stream",
     "text": [
      "Hello\n",
      "HELLO\n",
      "  hello\n",
      " hello \n",
      "he(ell)(ell)o\n",
      "world\n"
     ]
    }
   ],
   "source": [
    "s = 'hello'\n",
    "print(s.capitalize()) # Make first character into upper case.\n",
    "print(s.upper())      # Make all characters into upper case.\n",
    "print(s.rjust(7))     # Right justification with len(s)=7\n",
    "print(s.center(7))    # Center justification\n",
    "print(s.replace(('l'),'(ell)'))  # replace 'l' into '(ell)'\n",
    "print(' world '.strip())  # delete space both front and behind of s"
   ]
  },
  {
   "cell_type": "code",
   "execution_count": 28,
   "metadata": {},
   "outputs": [
    {
     "name": "stdout",
     "output_type": "stream",
     "text": [
      "[3, 1, 2] 2\n",
      "2\n",
      "[3, 1, 'foo']\n",
      "[3, 1, 'foo', [5, 6]]\n",
      "5\n",
      "[5, 6] [3, 1, 'foo']\n"
     ]
    }
   ],
   "source": [
    "xs = [3, 1, 2]    # declare list\n",
    "print(xs,xs[2])   # print [3,1,2],2\n",
    "print(xs[-1])     # negative index\n",
    "xs[2] = 'foo'     # list can save various type data.\n",
    "print(xs)\n",
    "xs.append([5,6])  # add element at last.\n",
    "print(xs)\n",
    "print(xs[-1][0])  # access list in list\n",
    "x = xs.pop()      # REmove the item at the given position in the list, and return it.\n",
    "print(x,xs)"
   ]
  },
  {
   "cell_type": "code",
   "execution_count": 29,
   "metadata": {},
   "outputs": [
    {
     "name": "stdout",
     "output_type": "stream",
     "text": [
      "[0, 1, 2, 3, 4]\n",
      "[2, 3]\n",
      "[2, 3, 4]\n",
      "[0, 1, 2, 3, 4]\n",
      "[0, 1, 2, 3]\n",
      "[0, 1, 8, 9, 4]\n"
     ]
    }
   ],
   "source": [
    "nums = list(range(5))\n",
    "print(nums)\n",
    "print(nums[2:4])\n",
    "print(nums[2:])\n",
    "print(nums[:])\n",
    "print(nums[:-1])\n",
    "nums[2:4] = [8,9]\n",
    "print(nums)"
   ]
  },
  {
   "cell_type": "code",
   "execution_count": 34,
   "metadata": {},
   "outputs": [
    {
     "name": "stdout",
     "output_type": "stream",
     "text": [
      "cat\n",
      "dog\n",
      "monkey\n"
     ]
    }
   ],
   "source": [
    "animals = ['cat','dog','monkey']\n",
    "for animal in animals:\n",
    "    print(animal)"
   ]
  },
  {
   "cell_type": "code",
   "execution_count": 36,
   "metadata": {},
   "outputs": [
    {
     "name": "stdout",
     "output_type": "stream",
     "text": [
      "#1: cat\n",
      "#2: dog\n",
      "#3: monkey\n"
     ]
    }
   ],
   "source": [
    "animals = ['cat','dog','monkey']\n",
    "for idx, animal in enumerate(animals):\n",
    "    print('#%d: %s' % (idx + 1, animal))"
   ]
  },
  {
   "cell_type": "code",
   "execution_count": 42,
   "metadata": {},
   "outputs": [
    {
     "name": "stdout",
     "output_type": "stream",
     "text": [
      "[0, 1, 4, 9, 16]\n",
      "[0, 1, 4, 9, 16]\n",
      "[0, 4, 16]\n"
     ]
    }
   ],
   "source": [
    "nums = [0, 1, 2, 3, 4]\n",
    "squares = []\n",
    "# list of square of elements in nums\n",
    "for x in nums:\n",
    "    squares.append(x ** 2)\n",
    "print(squares)\n",
    "# return same result\n",
    "squares = [x ** 2 for x in nums]\n",
    "print(squares)\n",
    "# We can add some condtion\n",
    "nums = [0, 1, 2, 3, 4]\n",
    "even_squares = [x ** 2 for x in nums if x % 2 == 0]\n",
    "print(even_squares)\n",
    "    "
   ]
  },
  {
   "cell_type": "code",
   "execution_count": 48,
   "metadata": {
    "scrolled": true
   },
   "outputs": [
    {
     "name": "stdout",
     "output_type": "stream",
     "text": [
      "cute\n",
      "True\n",
      "wet\n",
      "N/A\n",
      "wet\n",
      "N/A\n"
     ]
    }
   ],
   "source": [
    "d = {'cat': 'cute', 'dog': 'funny'}  # new dictionary\n",
    "print(d['cat'])  # print 'cute'\n",
    "print('cat' in d)  # make sure the dictionary has the given key\n",
    "d['fish'] = 'wet'  # add (key,value) = (fish,wet) pair\n",
    "print(d['fish'])\n",
    "# print(d['monkey'])  # KeyError: 'monkey' not a key of d\n",
    "print(d.get('monkey','N/A'))  # check key of d; if 'monkey' not in d.key(), print N/A\n",
    "print(d.get('fish', 'N/A'))  # check key of d; if 'fish' not in d.key(), print 'wet'\n",
    "del d['fish']  # delete pair ('fish','wet')\n",
    "print(d.get('fish', 'N/A'))"
   ]
  },
  {
   "cell_type": "code",
   "execution_count": 51,
   "metadata": {},
   "outputs": [
    {
     "name": "stdout",
     "output_type": "stream",
     "text": [
      "A person has 2 legs\n",
      "A cat has 4 legs\n",
      "A spider has 8 legs\n",
      "A person has 2 legs\n",
      "A cat has 4 legs\n",
      "A spider has 8 legs\n"
     ]
    }
   ],
   "source": [
    "d = {'person': 2, 'cat': 4, 'spider': 8}\n",
    "for animal in d:  # access keys\n",
    "    legs = d[animal]\n",
    "    print('A %s has %d legs' % (animal, legs))\n",
    "for animal, legs in d.items():  # access keys and values\n",
    "    print('A %s has %d legs' % (animal, legs))"
   ]
  },
  {
   "cell_type": "code",
   "execution_count": 52,
   "metadata": {},
   "outputs": [
    {
     "name": "stdout",
     "output_type": "stream",
     "text": [
      "{0: 0, 2: 4, 4: 16}\n"
     ]
    }
   ],
   "source": [
    "nums = [0, 1, 2, 3, 4]\n",
    "even_num_to_square = {x: x ** 2 for x in nums if x % 2 == 0}\n",
    "print(even_num_to_square)"
   ]
  },
  {
   "cell_type": "code",
   "execution_count": 55,
   "metadata": {},
   "outputs": [
    {
     "name": "stdout",
     "output_type": "stream",
     "text": [
      "True\n",
      "False\n",
      "True\n",
      "4\n",
      "4\n",
      "3\n",
      "{'dog'}\n",
      "{'fish', 'whale', 'dog', 'cat', 'fly'}\n",
      "{'fly', 'fish'}\n"
     ]
    }
   ],
   "source": [
    "animals1 = {'cat', 'dog', 'fly'}  # set(['cat','dog','fly'])\n",
    "animals2 = {'cat', 'dog', 'whale'}\n",
    "print('cat' in animals1)\n",
    "print('fish' in animals2)\n",
    "animals1.add('fish')\n",
    "print('fish' in animals1)\n",
    "print(len(animals1))\n",
    "animals1.add('cat')\n",
    "print(len(animals1))\n",
    "animals1.remove('cat')\n",
    "print(len(animals1))\n",
    "print(animals1 & animals2)  # animals1.intersection (animals2)\n",
    "print(animals1 | animals2)  # animals1.union (animals2)\n",
    "print(animals1 - animals2)  # animals1.difference (animals2)"
   ]
  },
  {
   "cell_type": "code",
   "execution_count": 58,
   "metadata": {},
   "outputs": [
    {
     "name": "stdout",
     "output_type": "stream",
     "text": [
      "{0, 1, 2, 3, 4, 5}\n"
     ]
    }
   ],
   "source": [
    "from math import sqrt\n",
    "nums = {int(sqrt(x)) for x in range(30)}\n",
    "print(nums)"
   ]
  },
  {
   "cell_type": "code",
   "execution_count": 60,
   "metadata": {},
   "outputs": [
    {
     "name": "stdout",
     "output_type": "stream",
     "text": [
      "<class 'tuple'>\n",
      "5\n",
      "1\n"
     ]
    }
   ],
   "source": [
    "d = {(x,x + 1): x for x in range(10)}\n",
    "t = (5, 6)\n",
    "print(type(t))\n",
    "print(d[t])\n",
    "print(d[(1, 2)])"
   ]
  },
  {
   "cell_type": "code",
   "execution_count": 61,
   "metadata": {},
   "outputs": [
    {
     "name": "stdout",
     "output_type": "stream",
     "text": [
      "negative\n",
      "zero\n",
      "positive\n"
     ]
    }
   ],
   "source": [
    "def sign(x):\n",
    "    if x > 0:\n",
    "        return 'positive'\n",
    "    elif x< 0:\n",
    "        return 'negative'\n",
    "    else:\n",
    "        return 'zero'\n",
    "\n",
    "for x in [-1, 0, 1]:\n",
    "    print(sign(x))"
   ]
  },
  {
   "cell_type": "code",
   "execution_count": 67,
   "metadata": {},
   "outputs": [
    {
     "name": "stdout",
     "output_type": "stream",
     "text": [
      "Hello, Fred\n",
      "HELLO, FRED!\n"
     ]
    }
   ],
   "source": [
    "class Greeter(object):\n",
    "    \n",
    "    # generator\n",
    "    def __init__(self, name):\n",
    "        self.name = name  # declare instance variable\n",
    "    \n",
    "    # instance method\n",
    "    def greet(self, loud=False):\n",
    "        if loud:\n",
    "            print('HELLO, %s!' % self.name.upper())\n",
    "        else:\n",
    "            print('Hello, %s' % self.name)\n",
    "            \n",
    "g = Greeter('Fred')\n",
    "g.greet()\n",
    "g.greet(loud=True)\n",
    "        \n",
    "        "
   ]
  },
  {
   "cell_type": "code",
   "execution_count": 69,
   "metadata": {},
   "outputs": [
    {
     "name": "stdout",
     "output_type": "stream",
     "text": [
      "1.0\n",
      "0.7071067811865476\n"
     ]
    }
   ],
   "source": [
    "# import module\n",
    "import math\n",
    "print(math.cos(0))\n",
    "# import some function in math\n",
    "from math import sin,pi\n",
    "print(sin(pi/4))"
   ]
  }
 ],
 "metadata": {
  "kernelspec": {
   "display_name": "Python 3",
   "language": "python",
   "name": "python3"
  },
  "language_info": {
   "codemirror_mode": {
    "name": "ipython",
    "version": 3
   },
   "file_extension": ".py",
   "mimetype": "text/x-python",
   "name": "python",
   "nbconvert_exporter": "python",
   "pygments_lexer": "ipython3",
   "version": "3.6.6"
  }
 },
 "nbformat": 4,
 "nbformat_minor": 2
}
